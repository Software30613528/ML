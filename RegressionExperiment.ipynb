{
 "cells": [
  {
   "cell_type": "code",
   "execution_count": 40,
   "metadata": {
    "scrolled": false
   },
   "outputs": [
    {
     "data": {
      "text/plain": [
       "[<matplotlib.lines.Line2D at 0xecf834438>]"
      ]
     },
     "execution_count": 40,
     "metadata": {},
     "output_type": "execute_result"
    },
    {
     "data": {
      "image/png": "[encoded data removed]",
      "text/plain": [
       "<matplotlib.figure.Figure at 0xecf7d8eb8>"
      ]
     },
     "metadata": {},
     "output_type": "display_data"
    }
   ],
   "source": [
    "%matplotlib inline\n",
    "from sklearn.externals.joblib import Memory\n",
    "from sklearn.datasets import load_svmlight_file\n",
    "import numpy as np\n",
    "from numpy import *\n",
    "from sklearn.model_selection import train_test_split\n",
    "\n",
    "import matplotlib.pyplot as plt\n",
    "plt.rcParams['font.sans-serif']=['SimHei'] #用来正常显示中文标签\n",
    "plt.rcParams['axes.unicode_minus']=False #用来正常显示负号\n",
    "import matplotlib.pyplot as plt\n",
    "plt.rcParams['font.sans-serif']=['SimHei'] #用来正常显示中文标签\n",
    "plt.rcParams['axes.unicode_minus']=False\n",
    "\n",
    "mem = Memory(\"./mycache\")      \n",
    "\n",
    "def validation(X,y,w):\n",
    "    l=y-X*w  \n",
    "    L=np.array(l)\n",
    "    sumV=0\n",
    "    for i in range(102):\n",
    "        sumV=sumV+L[i]**2\n",
    "    sumV=sumV/102\n",
    "    return sumV,L\n",
    "\n",
    "\n",
    "@mem.cache\n",
    "def get_data():\n",
    "    data = load_svmlight_file(\"G:\\\\Users\\\\qqqqqq1997520\\\\Desktop\\\\housing.txt\")\n",
    "    return data[0], data[1]\n",
    "\n",
    "X, y = get_data()\n",
    "W=np.mat([[0],[0],[0],[0],[0],[0],[0],[0],[0],[0],[0],[0],[0],[0]])\n",
    "X_train, X_vali, y_train, y_vali = train_test_split(X, y, test_size=0.2, random_state=42)\n",
    "Xtrain=X_train.todense()\n",
    "Xvali=X_vali.todense()\n",
    "Xtrain=np.transpose(Xtrain)\n",
    "Xtrain=Xtrain.T\n",
    "Ytrain=np.mat(y_train).T\n",
    "Yvali=np.mat(y_vali).T\n",
    "X2train=np.column_stack((Xtrain,ones(404)))\n",
    "X2vali=np.column_stack((Xvali,ones(102)))\n",
    "sumT=0\n",
    "\n",
    "#LT=[0,0,0,0,0,0,0,0]\n",
    "#LV=[0,0,0,0,0,0,0,0]\n",
    "LT=[0 for i in range(70)]\n",
    "LV=[0 for i in range(70)]\n",
    "k=0\n",
    "for i in range(80):\n",
    "    L=np.array((X2train*W-Ytrain))\n",
    "    for j in range(404):\n",
    "        sumT=sumT+L[j]**2\n",
    "    sumT=sumT/404\n",
    "    W=W-0.0004*(2*X2train.T*(X2train*W-Ytrain))\n",
    "    #if((i+1)%10==0):\n",
    "    if(i>=10):\n",
    "        LT[k]=sumT\n",
    "        LV[k],a=validation(X2vali,Yvali,W)\n",
    "        k+=1\n",
    "\n",
    "#print(sumT)\n",
    "#sumV=0\n",
    "#sumV,L=validation(X2vali,Yvali,W)\n",
    "#print(sumV)\n",
    "\n",
    "#x=[10,20,30,40,50,60,70,80]\n",
    "x=[i for i in range(10,80)]\n",
    "plt.figure(1)\n",
    "plt.plot(x,LT)#蓝色线这是训练集Loss\n",
    "plt.plot(x,LV)#橙色线这是验证集Loss"
   ]
  }
 ],
 "metadata": {
  "kernelspec": {
   "display_name": "Python 3",
   "language": "python",
   "name": "python3"
  },
  "language_info": {
   "codemirror_mode": {
    "name": "ipython",
    "version": 3
   },
   "file_extension": ".py",
   "mimetype": "text/x-python",
   "name": "python",
   "nbconvert_exporter": "python",
   "pygments_lexer": "ipython3",
   "version": "3.6.3"
  }
 },
 "nbformat": 4,
 "nbformat_minor": 2
}
